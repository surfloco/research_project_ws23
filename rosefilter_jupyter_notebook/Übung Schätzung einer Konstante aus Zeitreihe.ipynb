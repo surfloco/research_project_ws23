{
 "cells": [
  {
   "cell_type": "code",
   "execution_count": 1,
   "id": "150234ae-a026-4090-823f-cb5219aa12d6",
   "metadata": {},
   "outputs": [],
   "source": [
    "import numpy as np\n",
    "from numpy.linalg import inv"
   ]
  },
  {
   "cell_type": "code",
   "execution_count": 2,
   "id": "3a08384e-f363-472e-8265-7bcafb12402c",
   "metadata": {},
   "outputs": [],
   "source": [
    "data = np.genfromtxt('data_n_Y.dat',\n",
    "                     names=None,\n",
    "                     dtype=np.float32,\n",
    "                     delimiter='   ')"
   ]
  },
  {
   "cell_type": "code",
   "execution_count": 3,
   "id": "ca09999f-7ae9-42ec-8964-0fcf8ebe11a9",
   "metadata": {},
   "outputs": [],
   "source": [
    "y1 = data[:,1]\n",
    "y2 = data[:,2]\n",
    "y3 = data[:,3]"
   ]
  },
  {
   "cell_type": "code",
   "execution_count": 4,
   "id": "e22160ba-fdd5-4460-8775-318089065344",
   "metadata": {},
   "outputs": [
    {
     "data": {
      "text/plain": [
       "array([[ 9.921828],\n",
       "       [10.201736],\n",
       "       [ 9.761474]], dtype=float32)"
      ]
     },
     "execution_count": 4,
     "metadata": {},
     "output_type": "execute_result"
    }
   ],
   "source": [
    "y = np.array([[np.mean(y1), np.mean(y2), np.mean(y3)]]).T\n",
    "y"
   ]
  },
  {
   "cell_type": "code",
   "execution_count": 5,
   "id": "71496359-56e3-4094-b77c-e4194d7f194f",
   "metadata": {},
   "outputs": [
    {
     "data": {
      "text/plain": [
       "array([[1],\n",
       "       [1],\n",
       "       [1]])"
      ]
     },
     "execution_count": 5,
     "metadata": {},
     "output_type": "execute_result"
    }
   ],
   "source": [
    "C = np.array([[1, 1, 1]]).T\n",
    "C"
   ]
  },
  {
   "cell_type": "code",
   "execution_count": 6,
   "id": "d4deb585-ba27-4b71-bc65-0b81ee88d1dc",
   "metadata": {},
   "outputs": [
    {
     "data": {
      "text/plain": [
       "array([[ 0.91525891,  0.12397291, -0.23751877],\n",
       "       [ 0.12397291,  2.11038947, -0.32122053],\n",
       "       [-0.23751877, -0.32122053,  5.19280648]])"
      ]
     },
     "execution_count": 6,
     "metadata": {},
     "output_type": "execute_result"
    }
   ],
   "source": [
    "R = np.cov([y1, y2, y3], rowvar=1)\n",
    "R"
   ]
  },
  {
   "cell_type": "code",
   "execution_count": 7,
   "id": "3d51697a-b3b9-4b91-9d55-c64b52178bab",
   "metadata": {},
   "outputs": [
    {
     "data": {
      "text/plain": [
       "array([[9.96715086]])"
      ]
     },
     "execution_count": 7,
     "metadata": {},
     "output_type": "execute_result"
    }
   ],
   "source": [
    "x = inv(C.T @ inv(R) @ C) @ C.T @ inv(R) @ y\n",
    "x"
   ]
  }
 ],
 "metadata": {
  "kernelspec": {
   "display_name": "Python 3",
   "language": "python",
   "name": "python3"
  },
  "language_info": {
   "codemirror_mode": {
    "name": "ipython",
    "version": 3
   },
   "file_extension": ".py",
   "mimetype": "text/x-python",
   "name": "python",
   "nbconvert_exporter": "python",
   "pygments_lexer": "ipython3",
   "version": "3.9.9"
  }
 },
 "nbformat": 4,
 "nbformat_minor": 5
}
